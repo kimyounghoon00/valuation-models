{
 "cells": [
  {
   "cell_type": "code",
   "execution_count": null,
   "metadata": {},
   "outputs": [],
   "source": [
    "import scipy.stats as sct\n",
    "import random\n",
    "from matplotlib import pyplot as plt\n",
    "import numpy as np\n",
    "import seaborn as sns"
   ]
  },
  {
   "cell_type": "markdown",
   "metadata": {},
   "source": [
    "## Dividend Discount Model or Discounted Cashflow Model"
   ]
  },
  {
   "cell_type": "markdown",
   "metadata": {},
   "source": [
    "$$V_0 = \\frac{D_0(1 + g)}{(1 + r)} + \\frac{D_0(1 + g)^2}{(1 + r)^2} + ... + \\frac{D_0(1 + g)^n}{(1 + r)^n}$$"
   ]
  },
  {
   "cell_type": "markdown",
   "metadata": {},
   "source": [
    "## Gordon Growth Model"
   ]
  },
  {
   "cell_type": "markdown",
   "metadata": {},
   "source": [
    "$$V_0 = \\frac{D_0(1 + g)}{r - g}$$"
   ]
  },
  {
   "cell_type": "code",
   "execution_count": null,
   "metadata": {},
   "outputs": [],
   "source": [
    "d0 = 100\n",
    "data = []\n",
    "\n",
    "for x in range(10000):\n",
    "    g = random.uniform(0.05,0.08)\n",
    "    r = random.uniform(0.09,0.10)\n",
    "    d1 = d0*(1+g)\n",
    "    v0 = d1/(r-g)\n",
    "    data.append(v0)\n",
    "    \n",
    "sns.distplot(data)\n",
    "plt.ylabel('Frequency')\n",
    "plt.xlabel('Market Value');"
   ]
  },
  {
   "cell_type": "code",
   "execution_count": null,
   "metadata": {},
   "outputs": [],
   "source": [
    "data"
   ]
  },
  {
   "cell_type": "code",
   "execution_count": null,
   "metadata": {},
   "outputs": [],
   "source": [
    "np.mean(data)"
   ]
  },
  {
   "cell_type": "code",
   "execution_count": null,
   "metadata": {},
   "outputs": [],
   "source": [
    "np.std(data)"
   ]
  },
  {
   "cell_type": "code",
   "execution_count": null,
   "metadata": {},
   "outputs": [],
   "source": [
    "np.max(data)"
   ]
  },
  {
   "cell_type": "code",
   "execution_count": null,
   "metadata": {},
   "outputs": [],
   "source": [
    "np.min(data)"
   ]
  },
  {
   "cell_type": "code",
   "execution_count": null,
   "metadata": {},
   "outputs": [],
   "source": [
    "d0 = 100\n",
    "g_mean = 0.05\n",
    "g_sd = 0.01\n",
    "\n",
    "data = []\n",
    "\n",
    "for x in range(10000):\n",
    "    g = sct.norm.ppf(random.uniform(0,1),loc=g_mean,scale=g_sd)\n",
    "    r = 0.10\n",
    "    d1 = d0*(1+g)\n",
    "    v0 = d1/(r-g)\n",
    "    data.append(v0)"
   ]
  },
  {
   "cell_type": "code",
   "execution_count": null,
   "metadata": {},
   "outputs": [],
   "source": [
    "sns.distplot(data)\n",
    "plt.ylabel('Frequency')\n",
    "plt.xlabel('Market Value')"
   ]
  },
  {
   "cell_type": "code",
   "execution_count": null,
   "metadata": {},
   "outputs": [],
   "source": [
    "np.mean(data)"
   ]
  },
  {
   "cell_type": "code",
   "execution_count": null,
   "metadata": {},
   "outputs": [],
   "source": [
    "np.median(data)"
   ]
  },
  {
   "cell_type": "code",
   "execution_count": null,
   "metadata": {},
   "outputs": [],
   "source": [
    "np.std(data)"
   ]
  },
  {
   "cell_type": "code",
   "execution_count": null,
   "metadata": {},
   "outputs": [],
   "source": [
    "np.max(data)"
   ]
  },
  {
   "cell_type": "code",
   "execution_count": null,
   "metadata": {},
   "outputs": [],
   "source": [
    "np.min(data)"
   ]
  },
  {
   "cell_type": "markdown",
   "metadata": {},
   "source": [
    "## H-Model"
   ]
  },
  {
   "cell_type": "markdown",
   "metadata": {},
   "source": [
    "$$V_0 = \\frac{D_0(1 + g_L)}{r - g_L} + \\frac{D_0H(g_S - g_L)}{r - g_L}$$"
   ]
  },
  {
   "cell_type": "markdown",
   "metadata": {},
   "source": [
    "$$V_0 = \\frac{D_0(1 + g_L) + D_0H(g_S - g_L)}{r - g_L}$$"
   ]
  },
  {
   "cell_type": "code",
   "execution_count": null,
   "metadata": {},
   "outputs": [],
   "source": [
    "d0 = 163\n",
    "gL_mean = 0.025\n",
    "gL_sd = 0.00001\n",
    "gS_mean = -0.05\n",
    "gS_sd = 0.00001\n",
    "r = 0.08\n",
    "n = 10\n",
    "H = n/2\n",
    "\n",
    "data = []\n",
    "\n",
    "for x in range(10000):\n",
    "    gL = sct.norm.ppf(random.uniform(0,1),loc=gL_mean,scale=gL_sd)\n",
    "    gS = sct.norm.ppf(random.uniform(0,1),loc=gS_mean,scale=gS_sd)\n",
    "\n",
    "    vS = (d0*H*(gS-gL))/(r-gL)\n",
    "    vL = (d0*(1+gL))/(r-gL)\n",
    "    v0 = vS + vL\n",
    "    data.append(v0)"
   ]
  },
  {
   "cell_type": "code",
   "execution_count": null,
   "metadata": {},
   "outputs": [],
   "source": [
    "sns.distplot(data)\n",
    "plt.ylabel('Frequency')\n",
    "plt.xlabel('Market Value')"
   ]
  },
  {
   "cell_type": "code",
   "execution_count": null,
   "metadata": {},
   "outputs": [],
   "source": [
    "np.mean(data)"
   ]
  },
  {
   "cell_type": "code",
   "execution_count": null,
   "metadata": {},
   "outputs": [],
   "source": [
    "np.std(data)"
   ]
  },
  {
   "cell_type": "code",
   "execution_count": null,
   "metadata": {},
   "outputs": [],
   "source": [
    "np.max(data)"
   ]
  },
  {
   "cell_type": "code",
   "execution_count": null,
   "metadata": {},
   "outputs": [],
   "source": [
    "np.min(data)"
   ]
  },
  {
   "cell_type": "markdown",
   "metadata": {},
   "source": [
    "## 3 Stage Model"
   ]
  },
  {
   "cell_type": "code",
   "execution_count": null,
   "metadata": {},
   "outputs": [],
   "source": [
    "d0 = 163\n",
    "gL_mean = 0.025\n",
    "gL_sd = 0.00001\n",
    "gS1_mean = -0.05\n",
    "gS1_sd = 0.00001\n",
    "gS2_mean = 0.025\n",
    "gS2_sd = 0.00001\n",
    "\n",
    "r = 0.08\n",
    "n = 10\n",
    "H = n/2\n",
    "\n",
    "data = []\n",
    "\n",
    "for x in range(10000):\n",
    "    gL = sct.norm.ppf(random.uniform(0,1),loc=gL_mean,scale=gL_sd)\n",
    "    gS1 = sct.norm.ppf(random.uniform(0,1),loc=gS_mean,scale=gS_sd)\n",
    "    gS2 = sct.norm.ppf(random.uniform(0,1),loc=gS2_mean,scale=gS2_sd)\n",
    "    \n",
    "    d1 = d0*(1+gS1)\n",
    "    \n",
    "    v1 = (d1)/(1+r)\n",
    "    \n",
    "    vS = (d1*H*(gS2-gL))/(r-gL)\n",
    "    \n",
    "    vL = (d1*(1+gL))/(r-gL)\n",
    "    \n",
    "    v2 = (vS + vL)/(1+r)\n",
    "    \n",
    "    v0 = v1 + v2\n",
    "    data.append(v0)\n",
    "    \n",
    "sns.distplot(data)\n",
    "plt.ylabel('Frequency')\n",
    "plt.xlabel('Market Value')"
   ]
  },
  {
   "cell_type": "code",
   "execution_count": null,
   "metadata": {},
   "outputs": [],
   "source": [
    "np.mean(data)"
   ]
  },
  {
   "cell_type": "code",
   "execution_count": null,
   "metadata": {},
   "outputs": [],
   "source": [
    "np.std(data)"
   ]
  },
  {
   "cell_type": "code",
   "execution_count": null,
   "metadata": {},
   "outputs": [],
   "source": [
    "np.max(data)"
   ]
  },
  {
   "cell_type": "code",
   "execution_count": null,
   "metadata": {},
   "outputs": [],
   "source": [
    "np.min(data)"
   ]
  },
  {
   "cell_type": "code",
   "execution_count": null,
   "metadata": {},
   "outputs": [],
   "source": []
  },
  {
   "cell_type": "code",
   "execution_count": null,
   "metadata": {},
   "outputs": [],
   "source": []
  }
 ],
 "metadata": {
  "kernelspec": {
   "display_name": "Python 3",
   "language": "python",
   "name": "python3"
  },
  "language_info": {
   "codemirror_mode": {
    "name": "ipython",
    "version": 3
   },
   "file_extension": ".py",
   "mimetype": "text/x-python",
   "name": "python",
   "nbconvert_exporter": "python",
   "pygments_lexer": "ipython3",
   "version": "3.7.4"
  }
 },
 "nbformat": 4,
 "nbformat_minor": 4
}
